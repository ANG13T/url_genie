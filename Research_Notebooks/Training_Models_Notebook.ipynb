{
 "cells": [
  {
   "cell_type": "markdown",
   "metadata": {
    "id": "TAt-bk1YcGSx"
   },
   "source": [
    "# **Phishing Domain Detection (Training Models)**\n",
    "\n",
    "### The objective of this notebook is to test a couple of models to classify which one is best suited for detecting malicious domains"
   ]
  },
  {
   "cell_type": "code",
   "execution_count": 6,
   "metadata": {
    "id": "OqIlsV2DcE_L"
   },
   "outputs": [],
   "source": [
    "import numpy as np\n",
    "import pandas as pd\n",
    "import matplotlib.pyplot as plt\n",
    "import seaborn as sns"
   ]
  },
  {
   "cell_type": "code",
   "execution_count": 17,
   "metadata": {
    "colab": {
     "base_uri": "https://localhost:8080/",
     "height": 220
    },
    "id": "qfO2l4SUtdaP",
    "outputId": "f5ac2a82-0404-4569-cfa5-56127e9b78f8"
   },
   "outputs": [
    {
     "data": {
      "text/html": [
       "<div>\n",
       "<style scoped>\n",
       "    .dataframe tbody tr th:only-of-type {\n",
       "        vertical-align: middle;\n",
       "    }\n",
       "\n",
       "    .dataframe tbody tr th {\n",
       "        vertical-align: top;\n",
       "    }\n",
       "\n",
       "    .dataframe thead th {\n",
       "        text-align: right;\n",
       "    }\n",
       "</style>\n",
       "<table border=\"1\" class=\"dataframe\">\n",
       "  <thead>\n",
       "    <tr style=\"text-align: right;\">\n",
       "      <th></th>\n",
       "      <th>result</th>\n",
       "      <th>url_length</th>\n",
       "      <th>hostname_length</th>\n",
       "      <th>path_length</th>\n",
       "      <th>fd_length</th>\n",
       "      <th>use_of_ip</th>\n",
       "      <th>short_url</th>\n",
       "      <th>count-</th>\n",
       "      <th>count@</th>\n",
       "      <th>count?</th>\n",
       "      <th>count%</th>\n",
       "      <th>count.</th>\n",
       "      <th>count=</th>\n",
       "      <th>count-http</th>\n",
       "      <th>count-https</th>\n",
       "      <th>count-www</th>\n",
       "      <th>count-digits</th>\n",
       "      <th>count-letters</th>\n",
       "      <th>count_dir</th>\n",
       "    </tr>\n",
       "  </thead>\n",
       "  <tbody>\n",
       "    <tr>\n",
       "      <th>0</th>\n",
       "      <td>0</td>\n",
       "      <td>22</td>\n",
       "      <td>14</td>\n",
       "      <td>0</td>\n",
       "      <td>0</td>\n",
       "      <td>1</td>\n",
       "      <td>1</td>\n",
       "      <td>0</td>\n",
       "      <td>0</td>\n",
       "      <td>0</td>\n",
       "      <td>0</td>\n",
       "      <td>2</td>\n",
       "      <td>0</td>\n",
       "      <td>1</td>\n",
       "      <td>1</td>\n",
       "      <td>1</td>\n",
       "      <td>0</td>\n",
       "      <td>17</td>\n",
       "      <td>0</td>\n",
       "    </tr>\n",
       "    <tr>\n",
       "      <th>1</th>\n",
       "      <td>0</td>\n",
       "      <td>23</td>\n",
       "      <td>15</td>\n",
       "      <td>0</td>\n",
       "      <td>0</td>\n",
       "      <td>1</td>\n",
       "      <td>1</td>\n",
       "      <td>0</td>\n",
       "      <td>0</td>\n",
       "      <td>0</td>\n",
       "      <td>0</td>\n",
       "      <td>2</td>\n",
       "      <td>0</td>\n",
       "      <td>1</td>\n",
       "      <td>1</td>\n",
       "      <td>1</td>\n",
       "      <td>0</td>\n",
       "      <td>18</td>\n",
       "      <td>0</td>\n",
       "    </tr>\n",
       "    <tr>\n",
       "      <th>2</th>\n",
       "      <td>0</td>\n",
       "      <td>24</td>\n",
       "      <td>16</td>\n",
       "      <td>0</td>\n",
       "      <td>0</td>\n",
       "      <td>1</td>\n",
       "      <td>1</td>\n",
       "      <td>0</td>\n",
       "      <td>0</td>\n",
       "      <td>0</td>\n",
       "      <td>0</td>\n",
       "      <td>2</td>\n",
       "      <td>0</td>\n",
       "      <td>1</td>\n",
       "      <td>1</td>\n",
       "      <td>1</td>\n",
       "      <td>0</td>\n",
       "      <td>19</td>\n",
       "      <td>0</td>\n",
       "    </tr>\n",
       "    <tr>\n",
       "      <th>3</th>\n",
       "      <td>0</td>\n",
       "      <td>21</td>\n",
       "      <td>13</td>\n",
       "      <td>0</td>\n",
       "      <td>0</td>\n",
       "      <td>1</td>\n",
       "      <td>1</td>\n",
       "      <td>0</td>\n",
       "      <td>0</td>\n",
       "      <td>0</td>\n",
       "      <td>0</td>\n",
       "      <td>2</td>\n",
       "      <td>0</td>\n",
       "      <td>1</td>\n",
       "      <td>1</td>\n",
       "      <td>1</td>\n",
       "      <td>0</td>\n",
       "      <td>16</td>\n",
       "      <td>0</td>\n",
       "    </tr>\n",
       "    <tr>\n",
       "      <th>4</th>\n",
       "      <td>0</td>\n",
       "      <td>25</td>\n",
       "      <td>17</td>\n",
       "      <td>0</td>\n",
       "      <td>0</td>\n",
       "      <td>1</td>\n",
       "      <td>1</td>\n",
       "      <td>0</td>\n",
       "      <td>0</td>\n",
       "      <td>0</td>\n",
       "      <td>0</td>\n",
       "      <td>2</td>\n",
       "      <td>0</td>\n",
       "      <td>1</td>\n",
       "      <td>1</td>\n",
       "      <td>1</td>\n",
       "      <td>0</td>\n",
       "      <td>20</td>\n",
       "      <td>0</td>\n",
       "    </tr>\n",
       "  </tbody>\n",
       "</table>\n",
       "</div>"
      ],
      "text/plain": [
       "   result  url_length  hostname_length  path_length  fd_length  use_of_ip  \\\n",
       "0       0          22               14            0          0          1   \n",
       "1       0          23               15            0          0          1   \n",
       "2       0          24               16            0          0          1   \n",
       "3       0          21               13            0          0          1   \n",
       "4       0          25               17            0          0          1   \n",
       "\n",
       "   short_url  count-  count@  count?  count%  count.  count=  count-http  \\\n",
       "0          1       0       0       0       0       2       0           1   \n",
       "1          1       0       0       0       0       2       0           1   \n",
       "2          1       0       0       0       0       2       0           1   \n",
       "3          1       0       0       0       0       2       0           1   \n",
       "4          1       0       0       0       0       2       0           1   \n",
       "\n",
       "   count-https  count-www  count-digits  count-letters  count_dir  \n",
       "0            1          1             0             17          0  \n",
       "1            1          1             0             18          0  \n",
       "2            1          1             0             19          0  \n",
       "3            1          1             0             16          0  \n",
       "4            1          1             0             20          0  "
      ]
     },
     "execution_count": 17,
     "metadata": {},
     "output_type": "execute_result"
    }
   ],
   "source": [
    "urldata = pd.read_csv(\"./Url_Processed.csv\")\n",
    "\n",
    "# droping \"Unnamed: 0\" as its unncessary feature\n",
    "urldata.drop(\"Unnamed: 0\",axis=1,inplace=True)\n",
    "\n",
    "# remove uneccessary columns\n",
    "urldata.drop([\"url\",\"label\"],axis=1,inplace=True)\n",
    "\n",
    "urldata.head()"
   ]
  },
  {
   "cell_type": "code",
   "execution_count": 8,
   "metadata": {
    "id": "zsxoBODWtdcs"
   },
   "outputs": [],
   "source": [
    "#Independent Variables\n",
    "x = urldata[['hostname_length',\n",
    "       'path_length', 'fd_length', 'count-', 'count@', 'count?',\n",
    "       'count%', 'count.', 'count=', 'count-http','count-https', 'count-www', 'count-digits',\n",
    "       'count-letters', 'count_dir', 'use_of_ip']]\n",
    "\n",
    "#Dependent Variable\n",
    "y = urldata['result']"
   ]
  },
  {
   "cell_type": "code",
   "execution_count": 9,
   "metadata": {
    "colab": {
     "base_uri": "https://localhost:8080/",
     "height": 204
    },
    "id": "r6c6ejDstdhj",
    "outputId": "cf151ecd-23f9-49d2-c6f3-7a020f678907"
   },
   "outputs": [
    {
     "data": {
      "text/html": [
       "<div>\n",
       "<style scoped>\n",
       "    .dataframe tbody tr th:only-of-type {\n",
       "        vertical-align: middle;\n",
       "    }\n",
       "\n",
       "    .dataframe tbody tr th {\n",
       "        vertical-align: top;\n",
       "    }\n",
       "\n",
       "    .dataframe thead th {\n",
       "        text-align: right;\n",
       "    }\n",
       "</style>\n",
       "<table border=\"1\" class=\"dataframe\">\n",
       "  <thead>\n",
       "    <tr style=\"text-align: right;\">\n",
       "      <th></th>\n",
       "      <th>hostname_length</th>\n",
       "      <th>path_length</th>\n",
       "      <th>fd_length</th>\n",
       "      <th>count-</th>\n",
       "      <th>count@</th>\n",
       "      <th>count?</th>\n",
       "      <th>count%</th>\n",
       "      <th>count.</th>\n",
       "      <th>count=</th>\n",
       "      <th>count-http</th>\n",
       "      <th>count-https</th>\n",
       "      <th>count-www</th>\n",
       "      <th>count-digits</th>\n",
       "      <th>count-letters</th>\n",
       "      <th>count_dir</th>\n",
       "      <th>use_of_ip</th>\n",
       "    </tr>\n",
       "  </thead>\n",
       "  <tbody>\n",
       "    <tr>\n",
       "      <th>0</th>\n",
       "      <td>14</td>\n",
       "      <td>0</td>\n",
       "      <td>0</td>\n",
       "      <td>0</td>\n",
       "      <td>0</td>\n",
       "      <td>0</td>\n",
       "      <td>0</td>\n",
       "      <td>2</td>\n",
       "      <td>0</td>\n",
       "      <td>1</td>\n",
       "      <td>1</td>\n",
       "      <td>1</td>\n",
       "      <td>0</td>\n",
       "      <td>17</td>\n",
       "      <td>0</td>\n",
       "      <td>1</td>\n",
       "    </tr>\n",
       "    <tr>\n",
       "      <th>1</th>\n",
       "      <td>15</td>\n",
       "      <td>0</td>\n",
       "      <td>0</td>\n",
       "      <td>0</td>\n",
       "      <td>0</td>\n",
       "      <td>0</td>\n",
       "      <td>0</td>\n",
       "      <td>2</td>\n",
       "      <td>0</td>\n",
       "      <td>1</td>\n",
       "      <td>1</td>\n",
       "      <td>1</td>\n",
       "      <td>0</td>\n",
       "      <td>18</td>\n",
       "      <td>0</td>\n",
       "      <td>1</td>\n",
       "    </tr>\n",
       "    <tr>\n",
       "      <th>2</th>\n",
       "      <td>16</td>\n",
       "      <td>0</td>\n",
       "      <td>0</td>\n",
       "      <td>0</td>\n",
       "      <td>0</td>\n",
       "      <td>0</td>\n",
       "      <td>0</td>\n",
       "      <td>2</td>\n",
       "      <td>0</td>\n",
       "      <td>1</td>\n",
       "      <td>1</td>\n",
       "      <td>1</td>\n",
       "      <td>0</td>\n",
       "      <td>19</td>\n",
       "      <td>0</td>\n",
       "      <td>1</td>\n",
       "    </tr>\n",
       "    <tr>\n",
       "      <th>3</th>\n",
       "      <td>13</td>\n",
       "      <td>0</td>\n",
       "      <td>0</td>\n",
       "      <td>0</td>\n",
       "      <td>0</td>\n",
       "      <td>0</td>\n",
       "      <td>0</td>\n",
       "      <td>2</td>\n",
       "      <td>0</td>\n",
       "      <td>1</td>\n",
       "      <td>1</td>\n",
       "      <td>1</td>\n",
       "      <td>0</td>\n",
       "      <td>16</td>\n",
       "      <td>0</td>\n",
       "      <td>1</td>\n",
       "    </tr>\n",
       "    <tr>\n",
       "      <th>4</th>\n",
       "      <td>17</td>\n",
       "      <td>0</td>\n",
       "      <td>0</td>\n",
       "      <td>0</td>\n",
       "      <td>0</td>\n",
       "      <td>0</td>\n",
       "      <td>0</td>\n",
       "      <td>2</td>\n",
       "      <td>0</td>\n",
       "      <td>1</td>\n",
       "      <td>1</td>\n",
       "      <td>1</td>\n",
       "      <td>0</td>\n",
       "      <td>20</td>\n",
       "      <td>0</td>\n",
       "      <td>1</td>\n",
       "    </tr>\n",
       "  </tbody>\n",
       "</table>\n",
       "</div>"
      ],
      "text/plain": [
       "   hostname_length  path_length  fd_length  count-  count@  count?  count%  \\\n",
       "0               14            0          0       0       0       0       0   \n",
       "1               15            0          0       0       0       0       0   \n",
       "2               16            0          0       0       0       0       0   \n",
       "3               13            0          0       0       0       0       0   \n",
       "4               17            0          0       0       0       0       0   \n",
       "\n",
       "   count.  count=  count-http  count-https  count-www  count-digits  \\\n",
       "0       2       0           1            1          1             0   \n",
       "1       2       0           1            1          1             0   \n",
       "2       2       0           1            1          1             0   \n",
       "3       2       0           1            1          1             0   \n",
       "4       2       0           1            1          1             0   \n",
       "\n",
       "   count-letters  count_dir  use_of_ip  \n",
       "0             17          0          1  \n",
       "1             18          0          1  \n",
       "2             19          0          1  \n",
       "3             16          0          1  \n",
       "4             20          0          1  "
      ]
     },
     "execution_count": 9,
     "metadata": {},
     "output_type": "execute_result"
    }
   ],
   "source": [
    "# printing x\n",
    "x.head()"
   ]
  },
  {
   "cell_type": "code",
   "execution_count": 10,
   "metadata": {
    "colab": {
     "base_uri": "https://localhost:8080/"
    },
    "id": "Rupc5d7stdmA",
    "outputId": "126a195a-86c5-477c-9d40-ddb177322191"
   },
   "outputs": [
    {
     "data": {
      "text/plain": [
       "0    0\n",
       "1    0\n",
       "2    0\n",
       "3    0\n",
       "4    0\n",
       "Name: result, dtype: int64"
      ]
     },
     "execution_count": 10,
     "metadata": {},
     "output_type": "execute_result"
    }
   ],
   "source": [
    "# printing y\n",
    "y.head()"
   ]
  },
  {
   "cell_type": "code",
   "execution_count": 18,
   "metadata": {
    "colab": {
     "base_uri": "https://localhost:8080/"
    },
    "id": "eJZZ-xpNtdow",
    "outputId": "a23d6a67-6df0-4b8c-f4fe-aab729aae131"
   },
   "outputs": [
    {
     "name": "stdout",
     "output_type": "stream",
     "text": [
      "Size of x-sample : (691476, 16)\n",
      "Size of y-sample : (691476, 1)\n"
     ]
    }
   ],
   "source": [
    "#Oversampling using SMOTE\n",
    "from imblearn.over_sampling import SMOTE\n",
    "\n",
    "x_sample, y_sample = SMOTE().fit_resample(x, y.values.ravel())\n",
    "\n",
    "x_sample = pd.DataFrame(x_sample)\n",
    "y_sample = pd.DataFrame(y_sample)\n",
    "\n",
    "# checking the sizes of the sample data\n",
    "print(\"Size of x-sample :\", x_sample.shape)\n",
    "print(\"Size of y-sample :\", y_sample.shape)"
   ]
  },
  {
   "cell_type": "code",
   "execution_count": 3,
   "metadata": {
    "colab": {
     "base_uri": "https://localhost:8080/"
    },
    "id": "zAmxD1ldtdrP",
    "outputId": "12081cab-f6b3-404f-957f-6d18cf8fca39"
   },
   "outputs": [
    {
     "ename": "NameError",
     "evalue": "name 'x_sample' is not defined",
     "output_type": "error",
     "traceback": [
      "\u001b[1;31m---------------------------------------------------------------------------\u001b[0m",
      "\u001b[1;31mNameError\u001b[0m                                 Traceback (most recent call last)",
      "Cell \u001b[1;32mIn[3], line 4\u001b[0m\n\u001b[0;32m      1\u001b[0m \u001b[38;5;66;03m# DATA SPLITTING \u001b[39;00m\n\u001b[0;32m      2\u001b[0m \u001b[38;5;28;01mfrom\u001b[39;00m \u001b[38;5;21;01msklearn\u001b[39;00m\u001b[38;5;21;01m.\u001b[39;00m\u001b[38;5;21;01mmodel_selection\u001b[39;00m \u001b[38;5;28;01mimport\u001b[39;00m train_test_split\n\u001b[1;32m----> 4\u001b[0m x_train, x_test, y_train, y_test \u001b[38;5;241m=\u001b[39m train_test_split(\u001b[43mx_sample\u001b[49m, y_sample, test_size \u001b[38;5;241m=\u001b[39m \u001b[38;5;241m0.2\u001b[39m)\n\u001b[0;32m      5\u001b[0m \u001b[38;5;28mprint\u001b[39m(\u001b[38;5;124m\"\u001b[39m\u001b[38;5;124mShape of x_train: \u001b[39m\u001b[38;5;124m\"\u001b[39m, x_train\u001b[38;5;241m.\u001b[39mshape)\n\u001b[0;32m      6\u001b[0m \u001b[38;5;28mprint\u001b[39m(\u001b[38;5;124m\"\u001b[39m\u001b[38;5;124mShape of x_valid: \u001b[39m\u001b[38;5;124m\"\u001b[39m, x_test\u001b[38;5;241m.\u001b[39mshape)\n",
      "\u001b[1;31mNameError\u001b[0m: name 'x_sample' is not defined"
     ]
    }
   ],
   "source": [
    "# DATA SPLITTING \n",
    "from sklearn.model_selection import train_test_split\n",
    "\n",
    "x_train, x_test, y_train, y_test = train_test_split(x_sample, y_sample, test_size = 0.2)\n",
    "print(\"Shape of x_train: \", x_train.shape)\n",
    "print(\"Shape of x_valid: \", x_test.shape)\n",
    "print(\"Shape of y_train: \", y_train.shape)\n",
    "print(\"Shape of y_valid: \", y_test.shape)"
   ]
  },
  {
   "cell_type": "markdown",
   "metadata": {
    "id": "YYCf7yYf6ZPZ"
   },
   "source": [
    "## **Decision Tree**"
   ]
  },
  {
   "cell_type": "code",
   "execution_count": null,
   "metadata": {
    "colab": {
     "base_uri": "https://localhost:8080/"
    },
    "id": "CcXyT1EP5F_Y",
    "outputId": "f591835f-58cc-49e4-ba90-fd7eae07675f"
   },
   "outputs": [],
   "source": [
    "from sklearn.tree import DecisionTreeClassifier\n",
    "\n",
    "model = DecisionTreeClassifier(max_depth=7)\n",
    "\n",
    "model.fit(x_train,y_train)"
   ]
  },
  {
   "cell_type": "markdown",
   "metadata": {
    "id": "Q36I-MhA6tHy"
   },
   "source": [
    "#### **Model Performance Evaluation**"
   ]
  },
  {
   "cell_type": "code",
   "execution_count": null,
   "metadata": {
    "colab": {
     "base_uri": "https://localhost:8080/"
    },
    "id": "by6PcZbi5GCF",
    "outputId": "c97dca91-76aa-4b1c-c88d-cf29540cb4a7"
   },
   "outputs": [],
   "source": [
    "from sklearn.metrics import confusion_matrix,classification_report,accuracy_score\n",
    "\n",
    "# finding y_pred for train and test dataset\n",
    "y_pred_train = model.predict(x_train)\n",
    "y_pred_test = model.predict(x_test)\n",
    "\n",
    "# finding accuracy on train dataset\n",
    "train_acc = accuracy_score(y_train,y_pred_train)\n",
    "test_acc = accuracy_score(y_test,y_pred_test)\n",
    "\n",
    "print(\"Accuracy on Training dataset : \",round(train_acc,3))\n",
    "print(\"Accuracy on Testing dataset : \",round(test_acc,3))"
   ]
  },
  {
   "cell_type": "code",
   "execution_count": 18,
   "metadata": {
    "colab": {
     "base_uri": "https://localhost:8080/"
    },
    "id": "4qnl40Nz5GEd",
    "outputId": "e6604e1c-d615-47fa-93b0-efc4466f9d55"
   },
   "outputs": [
    {
     "name": "stdout",
     "output_type": "stream",
     "text": [
      "              precision    recall  f1-score   support\n",
      "\n",
      "  legitimate       1.00      1.00      1.00     69039\n",
      "   malicious       1.00      1.00      1.00     69257\n",
      "\n",
      "    accuracy                           1.00    138296\n",
      "   macro avg       1.00      1.00      1.00    138296\n",
      "weighted avg       1.00      1.00      1.00    138296\n",
      "\n"
     ]
    }
   ],
   "source": [
    "# calculating other classification metrics\n",
    "print(classification_report(y_pred_test,y_test,target_names=[\"legitimate\",\"malicious\"]))"
   ]
  },
  {
   "cell_type": "markdown",
   "metadata": {
    "id": "2gy6Wx3Q73xa"
   },
   "source": [
    "## **Random Forest**"
   ]
  },
  {
   "cell_type": "code",
   "execution_count": 20,
   "metadata": {
    "colab": {
     "base_uri": "https://localhost:8080/"
    },
    "id": "WPuSmKal7xzK",
    "outputId": "398b03ef-3038-47ae-c393-a4a2b277be19"
   },
   "outputs": [
    {
     "name": "stderr",
     "output_type": "stream",
     "text": [
      "/usr/local/lib/python3.7/dist-packages/ipykernel_launcher.py:6: DataConversionWarning: A column-vector y was passed when a 1d array was expected. Please change the shape of y to (n_samples,), for example using ravel().\n",
      "  \n"
     ]
    },
    {
     "data": {
      "text/plain": [
       "RandomForestClassifier(bootstrap=True, ccp_alpha=0.0, class_weight=None,\n",
       "                       criterion='gini', max_depth=7, max_features='auto',\n",
       "                       max_leaf_nodes=None, max_samples=None,\n",
       "                       min_impurity_decrease=0.0, min_impurity_split=None,\n",
       "                       min_samples_leaf=1, min_samples_split=2,\n",
       "                       min_weight_fraction_leaf=0.0, n_estimators=100,\n",
       "                       n_jobs=None, oob_score=False, random_state=None,\n",
       "                       verbose=0, warm_start=False)"
      ]
     },
     "execution_count": 20,
     "metadata": {},
     "output_type": "execute_result"
    }
   ],
   "source": [
    "from sklearn.ensemble import RandomForestClassifier\n",
    "\n",
    "model = RandomForestClassifier(max_depth=7)\n",
    "\n",
    "# start training the model\n",
    "model.fit(x_train,y_train)"
   ]
  },
  {
   "cell_type": "markdown",
   "metadata": {
    "id": "pIVEFz-q8dRr"
   },
   "source": [
    "#### **Model Performance Evaluation**"
   ]
  },
  {
   "cell_type": "code",
   "execution_count": 21,
   "metadata": {
    "colab": {
     "base_uri": "https://localhost:8080/"
    },
    "id": "vVpM6n557Ghh",
    "outputId": "62fcd2ae-95e5-4382-e32e-d5a53c77bcfb"
   },
   "outputs": [
    {
     "name": "stdout",
     "output_type": "stream",
     "text": [
      "Accuracy on Training dataset :  0.997\n",
      "Accuracy on Testing dataset :  0.998\n"
     ]
    }
   ],
   "source": [
    "from sklearn.metrics import confusion_matrix,classification_report,accuracy_score\n",
    "\n",
    "# finding y_pred for train and test dataset\n",
    "y_pred_train = model.predict(x_train)\n",
    "y_pred_test = model.predict(x_test)\n",
    "\n",
    "# finding accuracy on train dataset\n",
    "train_acc = accuracy_score(y_train,y_pred_train)\n",
    "test_acc = accuracy_score(y_test,y_pred_test)\n",
    "\n",
    "print(\"Accuracy on Training dataset : \",round(train_acc,3))\n",
    "print(\"Accuracy on Testing dataset : \",round(test_acc,3))"
   ]
  },
  {
   "cell_type": "code",
   "execution_count": 22,
   "metadata": {
    "colab": {
     "base_uri": "https://localhost:8080/"
    },
    "id": "JVFdjLa17Gkx",
    "outputId": "6445be73-b298-4208-8113-7c83f15e33e2"
   },
   "outputs": [
    {
     "name": "stdout",
     "output_type": "stream",
     "text": [
      "              precision    recall  f1-score   support\n",
      "\n",
      "  legitimate       1.00      1.00      1.00     69040\n",
      "   malicious       1.00      1.00      1.00     69256\n",
      "\n",
      "    accuracy                           1.00    138296\n",
      "   macro avg       1.00      1.00      1.00    138296\n",
      "weighted avg       1.00      1.00      1.00    138296\n",
      "\n"
     ]
    }
   ],
   "source": [
    "# calculating other classification metrics\n",
    "print(classification_report(y_pred_test,y_test,target_names=[\"legitimate\",\"malicious\"]))"
   ]
  },
  {
   "cell_type": "markdown",
   "metadata": {
    "id": "OlwZcgWZ-Lpo"
   },
   "source": [
    "## **Multilayer Perceptron (Deep Learning)**"
   ]
  },
  {
   "cell_type": "code",
   "execution_count": 13,
   "metadata": {
    "id": "zpNgcAIr7GrP"
   },
   "outputs": [],
   "source": [
    "import tensorflow as tf\n",
    "from tensorflow import keras\n",
    "from tensorflow.keras.models import Sequential\n",
    "from tensorflow.keras.layers import Dense, Dropout, Activation\n",
    "from tensorflow.keras.callbacks import ModelCheckpoint\n",
    "from tensorflow.keras.callbacks import ReduceLROnPlateau\n",
    "from tensorflow.keras.models import Sequential\n",
    "from tensorflow.keras.layers import Dense, Conv1D, MaxPooling1D, Flatten, Dropout, BatchNormalization ,Activation\n",
    "from tensorflow.keras.utils import to_categorical\n",
    "from tensorflow.keras.callbacks import ModelCheckpoint"
   ]
  },
  {
   "cell_type": "code",
   "execution_count": 14,
   "metadata": {
    "colab": {
     "base_uri": "https://localhost:8080/"
    },
    "id": "kU-ecegL7G3M",
    "outputId": "c9707a22-5e00-417a-bf45-edb142b14423"
   },
   "outputs": [
    {
     "name": "stdout",
     "output_type": "stream",
     "text": [
      "Model: \"sequential\"\n",
      "_________________________________________________________________\n",
      " Layer (type)                Output Shape              Param #   \n",
      "=================================================================\n",
      " dense (Dense)               (None, 32)                544       \n",
      "                                                                 \n",
      " dense_1 (Dense)             (None, 16)                528       \n",
      "                                                                 \n",
      " dense_2 (Dense)             (None, 8)                 136       \n",
      "                                                                 \n",
      " dense_3 (Dense)             (None, 1)                 9         \n",
      "                                                                 \n",
      "=================================================================\n",
      "Total params: 1217 (4.75 KB)\n",
      "Trainable params: 1217 (4.75 KB)\n",
      "Non-trainable params: 0 (0.00 Byte)\n",
      "_________________________________________________________________\n"
     ]
    }
   ],
   "source": [
    "# model building\n",
    "model = Sequential()\n",
    "model.add(Dense(32, activation = 'relu', input_shape = (16, )))\n",
    "model.add(Dense(16, activation='relu'))\n",
    "model.add(Dense(8, activation='relu')) \n",
    "model.add(Dense(1, activation='sigmoid'))\n",
    "\n",
    "model.summary()"
   ]
  },
  {
   "cell_type": "code",
   "execution_count": 15,
   "metadata": {
    "colab": {
     "base_uri": "https://localhost:8080/"
    },
    "id": "kkqkWywW7G8o",
    "outputId": "948e5cef-8bfb-4155-93f4-49195d0ed374"
   },
   "outputs": [
    {
     "name": "stderr",
     "output_type": "stream",
     "text": [
      "WARNING:absl:`lr` is deprecated in Keras optimizer, please use `learning_rate` or use the legacy optimizer, e.g.,tf.keras.optimizers.legacy.Adam.\n"
     ]
    }
   ],
   "source": [
    "# compiling model\n",
    "opt = keras.optimizers.Adam(lr=0.0001)\n",
    "model.compile(optimizer= opt ,loss='binary_crossentropy',metrics=['acc'])"
   ]
  },
  {
   "cell_type": "code",
   "execution_count": 16,
   "metadata": {
    "id": "vxCnT9kStdtz"
   },
   "outputs": [],
   "source": [
    "# custom callback to stop the training when certain metric value is reached\n",
    "\n",
    "# stop training when validation loss reach 0.1\n",
    "class myCallback(keras.callbacks.Callback):\n",
    "    def on_epoch_end(self, epoch, logs={}):\n",
    "        if(logs.get('val_loss')<0.1):\n",
    "            print(\"\\nReached 0.1 val_loss so cancelling training!\")\n",
    "            self.model.stop_training = True\n",
    "        \n",
    "callback = myCallback()"
   ]
  },
  {
   "cell_type": "code",
   "execution_count": 29,
   "metadata": {
    "colab": {
     "base_uri": "https://localhost:8080/"
    },
    "id": "Z7n7b28w_zXr",
    "outputId": "3b272acd-dbc6-4907-d557-70eaa27ac7d4"
   },
   "outputs": [
    {
     "name": "stdout",
     "output_type": "stream",
     "text": [
      "Epoch 1/10\n",
      "2161/2161 [==============================] - 11s 5ms/step - loss: 0.4756 - acc: 0.8333 - val_loss: 0.2102 - val_acc: 0.9504\n",
      "Epoch 2/10\n",
      "2157/2161 [============================>.] - ETA: 0s - loss: 0.0979 - acc: 0.9790\n",
      "Reached 0.2700 val_loss so cancelling training!\n",
      "2161/2161 [==============================] - 10s 4ms/step - loss: 0.0978 - acc: 0.9790 - val_loss: 0.0433 - val_acc: 0.9920\n"
     ]
    }
   ],
   "source": [
    "# start training the model \n",
    "history = model.fit(x_train, y_train, epochs=10,batch_size=256, callbacks=[callback],validation_data=(x_test,y_test),verbose=1)"
   ]
  },
  {
   "cell_type": "code",
   "execution_count": 32,
   "metadata": {
    "colab": {
     "base_uri": "https://localhost:8080/",
     "height": 1000
    },
    "id": "i8Tnoi90_zaw",
    "outputId": "451301a1-20ff-473a-dc47-a9ea6278f1f3"
   },
   "outputs": [
    {
     "name": "stdout",
     "output_type": "stream",
     "text": [
      "dict_keys(['loss', 'acc', 'val_loss', 'val_acc'])\n"
     ]
    },
    {
     "data": {
      "image/png": "[encoded data removed]",
      "text/plain": [
       "<Figure size 1440x576 with 1 Axes>"
      ]
     },
     "metadata": {
      "needs_background": "light"
     },
     "output_type": "display_data"
    },
    {
     "data": {
      "image/png": "[encoded data removed]",
      "text/plain": [
       "<Figure size 1440x576 with 1 Axes>"
      ]
     },
     "metadata": {
      "needs_background": "light"
     },
     "output_type": "display_data"
    }
   ],
   "source": [
    "# DISPLAYING MODEL TRAINING HISTORY\n",
    "\n",
    "# list all data in history\n",
    "print(history.history.keys())\n",
    "\n",
    "# summarize history for accuracy\n",
    "plt.figure(figsize=(20,8))\n",
    "plt.plot(history.history['acc'])\n",
    "plt.plot(history.history['val_acc'])\n",
    "plt.title('model accuracy')\n",
    "plt.ylabel('accuracy')\n",
    "plt.xlabel('epoch')\n",
    "plt.legend(['train', 'test'], loc='upper left')\n",
    "plt.show()\n",
    "\n",
    "# summarize history for loss\n",
    "plt.figure(figsize=(20,8))\n",
    "plt.plot(history.history['loss'])\n",
    "plt.plot(history.history['val_loss'])\n",
    "plt.title('model loss')\n",
    "plt.ylabel('loss')\n",
    "plt.xlabel('epoch')\n",
    "plt.legend(['train', 'test'], loc='upper left')\n",
    "plt.show()\n"
   ]
  },
  {
   "cell_type": "code",
   "execution_count": 1,
   "metadata": {},
   "outputs": [],
   "source": [
    "# **Multilayer Perceptron with Genetic Algorithm to Optimize Inputs**"
   ]
  },
  {
   "cell_type": "code",
   "execution_count": null,
   "metadata": {},
   "outputs": [],
   "source": [
    "def generate_individual():\n",
    "    return [np.random.randint(8, 128), np.random.randint(8, 128), np.random.uniform(0.00001, 0.01)]\n",
    "\n",
    "def generate_population(pop_size):\n",
    "    return [generate_individual() for _ in range(pop_size)]\n",
    "\n",
    "# Fitness function\n",
    "def evaluate_individual(individual, x_train, y_train, x_val, y_val):\n",
    "    model = Sequential()\n",
    "    model.add(Dense(individual[0], activation='relu', input_shape=(16,)))\n",
    "    model.add(Dense(individual[1], activation='relu'))\n",
    "    model.add(Dense(1, activation='sigmoid'))\n",
    "    \n",
    "    opt = Adam(lr=individual[2])\n",
    "    model.compile(optimizer=opt, loss='binary_crossentropy', metrics=['acc'])\n",
    "    \n",
    "    history = model.fit(x_train, y_train, epochs=10, batch_size=256, validation_data=(x_val, y_val), verbose=0)\n",
    "    return history.history['val_acc'][-1]\n",
    "\n",
    "# Genetic algorithm parameters\n",
    "population_size = 20\n",
    "num_generations = 10\n",
    "\n",
    "# Main loop\n",
    "population = generate_population(population_size)\n",
    "for generation in range(num_generations):\n",
    "    print(f\"Generation {generation + 1}/{num_generations}\")\n",
    "    \n",
    "    # Evaluate fitness for each individual\n",
    "    fitness_scores = []\n",
    "    for individual in population:\n",
    "        fitness = evaluate_individual(individual, x_train, y_train, x_test, y_test)\n",
    "        fitness_scores.append(fitness)\n",
    "    \n",
    "    # Select parents based on fitness scores\n",
    "    parents = np.random.choice(population, size=2, p=fitness_scores / np.sum(fitness_scores))\n",
    "    \n",
    "    # Crossover (uniform crossover)\n",
    "    child = [parents[0][i] if np.random.rand() < 0.5 else parents[1][i] for i in range(3)]\n",
    "    \n",
    "    # Mutation\n",
    "    for i in range(3):\n",
    "        if np.random.rand() < mutation_rate:\n",
    "            if i == 2:  # Learning rate mutation\n",
    "                child[i] = np.random.uniform(0.00001, 0.01)\n",
    "            else:\n",
    "                child[i] = np.random.randint(8, 128)\n",
    "    \n",
    "    # Replace a random individual in the population with the child\n",
    "    random_index = np.random.randint(0, population_size)\n",
    "    population[random_index] = child\n",
    "\n",
    "# Find the best individual after all generations\n",
    "best_index = np.argmax(fitness_scores)\n",
    "best_individual = population[best_index]\n",
    "print(\"\\nBest individual:\", best_individual)"
   ]
  },
  {
   "cell_type": "code",
   "execution_count": 42,
   "metadata": {
    "colab": {
     "base_uri": "https://localhost:8080/"
    },
    "id": "UvIEGjWrAhBk",
    "outputId": "10b30c98-2dee-432b-ab42-0f6597f9cf18"
   },
   "outputs": [
    {
     "name": "stdout",
     "output_type": "stream",
     "text": [
      "PREDICTED : \n",
      "Non Mallicious\n",
      "Mallicious\n",
      "Mallicious\n",
      "Mallicious\n",
      "Non Mallicious\n",
      "Mallicious\n",
      "Mallicious\n",
      "Non Mallicious\n",
      "Non Mallicious\n",
      "Mallicious\n",
      "\n",
      "\n",
      "ACTUAL : \n",
      "Non Mallicious\n",
      "Mallicious\n",
      "Mallicious\n",
      "Mallicious\n",
      "Non Mallicious\n",
      "Mallicious\n",
      "Mallicious\n",
      "Non Mallicious\n",
      "Non Mallicious\n",
      "Mallicious\n"
     ]
    }
   ],
   "source": [
    "# predicting on test data.\n",
    "pred_test = model.predict(x_test)\n",
    "for i in range (len(pred_test)):\n",
    "    if (pred_test[i] < 0.5):\n",
    "        pred_test[i] = 0\n",
    "    else:\n",
    "        pred_test[i] = 1\n",
    "pred_test = pred_test.astype(int)\n",
    "\n",
    "def view_result(array):\n",
    "    array = np.array(array)\n",
    "    for i in range(len(array)):\n",
    "        if array[i] == 0:\n",
    "            print(\"Non Mallicious\")\n",
    "        else:\n",
    "            print(\"Mallicious\")\n",
    "\n",
    "print(\"PREDICTED : \")\n",
    "view_result(pred_test[:10])\n",
    "print(\"\\n\")\n",
    "print(\"ACTUAL : \")\n",
    "view_result(y_test[:10])"
   ]
  },
  {
   "cell_type": "markdown",
   "metadata": {
    "id": "0SIH3yRDDr-C"
   },
   "source": [
    "### **Saving the prediction model**"
   ]
  },
  {
   "cell_type": "code",
   "execution_count": 43,
   "metadata": {
    "id": "y0QP3I6EAhVi"
   },
   "outputs": [],
   "source": [
    "# Save Model Weights and Architecture Together\n",
    "model.save(\"Malicious_URL_Prediction.h5\")"
   ]
  }
 ],
 "metadata": {
  "accelerator": "GPU",
  "colab": {
   "collapsed_sections": [],
   "name": "Training Phishing classifier.ipynb",
   "provenance": []
  },
  "kernelspec": {
   "display_name": "Python 3 (ipykernel)",
   "language": "python",
   "name": "python3"
  },
  "language_info": {
   "codemirror_mode": {
    "name": "ipython",
    "version": 3
   },
   "file_extension": ".py",
   "mimetype": "text/x-python",
   "name": "python",
   "nbconvert_exporter": "python",
   "pygments_lexer": "ipython3",
   "version": "3.10.1"
  }
 },
 "nbformat": 4,
 "nbformat_minor": 4
}
